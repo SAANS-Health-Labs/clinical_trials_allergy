{
 "cells": [
  {
   "cell_type": "markdown",
   "metadata": {},
   "source": [
    "# Use environment: transformer"
   ]
  },
  {
   "cell_type": "code",
   "execution_count": 14,
   "metadata": {},
   "outputs": [],
   "source": [
    "# import sys\n",
    "# !{sys.executable} -m pip install stanza"
   ]
  },
  {
   "cell_type": "code",
   "execution_count": 15,
   "metadata": {},
   "outputs": [
    {
     "name": "stdout",
     "output_type": "stream",
     "text": [
      "Last modified by Xiaoqing: 211207\n"
     ]
    }
   ],
   "source": [
    "from datetime import datetime\n",
    "date = datetime.today().strftime('%y%m%d')\n",
    "print ('Last modified by Xiaoqing: ' + date)"
   ]
  },
  {
   "cell_type": "markdown",
   "metadata": {},
   "source": [
    "# Overview\n",
    "Allergies are frequently mentioned in clinical trial eligibility and also in patient EHR.\n",
    "But most packages, including stanza and AWS comprehend, cannot recognize allergies. I built this notebook to recognize allergy as an entity.\n",
    "\n",
    "More specifically, stanza can recognize \"seasonal allergy\" as a problem, but it cannot recognize \"allergy to [a chemical]\".\n",
    "\n",
    "To fix this, here are the general rules:\n",
    "\n",
    "- If a criteria contains ‘allergy to’: Replace all detected entities as allergy\n",
    "- If a ‘problem’ entity contains the word allergy: Replace all entities as allergy\n"
   ]
  },
  {
   "cell_type": "code",
   "execution_count": 16,
   "metadata": {
    "ExecuteTime": {
     "end_time": "2021-11-03T19:30:16.885681Z",
     "start_time": "2021-11-03T19:30:14.929697Z"
    }
   },
   "outputs": [],
   "source": [
    "import stanza\n",
    "import pandas as pd"
   ]
  },
  {
   "cell_type": "code",
   "execution_count": 17,
   "metadata": {},
   "outputs": [
    {
     "name": "stderr",
     "output_type": "stream",
     "text": [
      "2021-12-07 12:08:04 INFO: Loading these models for language: en (English):\n",
      "=======================\n",
      "| Processor | Package |\n",
      "-----------------------\n",
      "| tokenize  | mimic   |\n",
      "| pos       | mimic   |\n",
      "| lemma     | mimic   |\n",
      "| depparse  | mimic   |\n",
      "| ner       | i2b2    |\n",
      "=======================\n",
      "\n",
      "2021-12-07 12:08:04 INFO: Use device: cpu\n",
      "2021-12-07 12:08:04 INFO: Loading: tokenize\n",
      "2021-12-07 12:08:04 INFO: Loading: pos\n",
      "2021-12-07 12:08:04 INFO: Loading: lemma\n",
      "2021-12-07 12:08:04 INFO: Loading: depparse\n",
      "2021-12-07 12:08:04 INFO: Loading: ner\n",
      "2021-12-07 12:08:05 INFO: Done loading processors!\n"
     ]
    }
   ],
   "source": [
    "# download and initialize a mimic pipeline with an i2b2 NER model\n",
    "# stanza.download('en', package='mimic', processors={'ner': 'i2b2'})\n",
    "nlp = stanza.Pipeline('en', package='mimic', processors={'ner': 'i2b2'})"
   ]
  },
  {
   "cell_type": "markdown",
   "metadata": {},
   "source": [
    "# Read data: real clinical trial eligibility criteria containing allergies"
   ]
  },
  {
   "cell_type": "code",
   "execution_count": 41,
   "metadata": {},
   "outputs": [],
   "source": [
    "df = pd.read_csv('allergy_input.csv')\n",
    "df['criteria']= df['criteria'].str.lower()"
   ]
  },
  {
   "cell_type": "code",
   "execution_count": 42,
   "metadata": {
    "scrolled": true
   },
   "outputs": [
    {
     "data": {
      "text/html": [
       "<div>\n",
       "<style scoped>\n",
       "    .dataframe tbody tr th:only-of-type {\n",
       "        vertical-align: middle;\n",
       "    }\n",
       "\n",
       "    .dataframe tbody tr th {\n",
       "        vertical-align: top;\n",
       "    }\n",
       "\n",
       "    .dataframe thead th {\n",
       "        text-align: right;\n",
       "    }\n",
       "</style>\n",
       "<table border=\"1\" class=\"dataframe\">\n",
       "  <thead>\n",
       "    <tr style=\"text-align: right;\">\n",
       "      <th></th>\n",
       "      <th>sentence_id</th>\n",
       "      <th>criteria</th>\n",
       "    </tr>\n",
       "  </thead>\n",
       "  <tbody>\n",
       "    <tr>\n",
       "      <th>0</th>\n",
       "      <td>1</td>\n",
       "      <td>seasonal allergies with significant effect on ...</td>\n",
       "    </tr>\n",
       "    <tr>\n",
       "      <th>1</th>\n",
       "      <td>2</td>\n",
       "      <td>patients with diabetic retinopathy, collagen, ...</td>\n",
       "    </tr>\n",
       "    <tr>\n",
       "      <th>2</th>\n",
       "      <td>3</td>\n",
       "      <td>has a history of relevant drug allergies, food...</td>\n",
       "    </tr>\n",
       "    <tr>\n",
       "      <th>3</th>\n",
       "      <td>4</td>\n",
       "      <td>babies who have a skin condition, allergies, o...</td>\n",
       "    </tr>\n",
       "    <tr>\n",
       "      <th>4</th>\n",
       "      <td>5</td>\n",
       "      <td>gadolinium allergy</td>\n",
       "    </tr>\n",
       "  </tbody>\n",
       "</table>\n",
       "</div>"
      ],
      "text/plain": [
       "   sentence_id                                           criteria\n",
       "0            1  seasonal allergies with significant effect on ...\n",
       "1            2  patients with diabetic retinopathy, collagen, ...\n",
       "2            3  has a history of relevant drug allergies, food...\n",
       "3            4  babies who have a skin condition, allergies, o...\n",
       "4            5                                 gadolinium allergy"
      ]
     },
     "execution_count": 42,
     "metadata": {},
     "output_type": "execute_result"
    }
   ],
   "source": [
    "df.head()"
   ]
  },
  {
   "cell_type": "markdown",
   "metadata": {},
   "source": [
    "# Iterate through df sentences, record entities"
   ]
  },
  {
   "cell_type": "code",
   "execution_count": 43,
   "metadata": {},
   "outputs": [],
   "source": [
    "df1 = pd.DataFrame(columns=['sentence_id','ent_text', 'ent_type']) # create empty df with column names only so we can append rows to it"
   ]
  },
  {
   "cell_type": "code",
   "execution_count": 44,
   "metadata": {},
   "outputs": [],
   "source": [
    "for index, row in df.iterrows():\n",
    "    doc = nlp(row['criteria'])\n",
    "    for ent in doc.entities:\n",
    "        df1 = df1.append({'sentence_id': row['sentence_id'], 'ent_text': ent.text, 'ent_type': ent.type}, ignore_index = True)"
   ]
  },
  {
   "cell_type": "code",
   "execution_count": 45,
   "metadata": {},
   "outputs": [
    {
     "data": {
      "text/html": [
       "<div>\n",
       "<style scoped>\n",
       "    .dataframe tbody tr th:only-of-type {\n",
       "        vertical-align: middle;\n",
       "    }\n",
       "\n",
       "    .dataframe tbody tr th {\n",
       "        vertical-align: top;\n",
       "    }\n",
       "\n",
       "    .dataframe thead th {\n",
       "        text-align: right;\n",
       "    }\n",
       "</style>\n",
       "<table border=\"1\" class=\"dataframe\">\n",
       "  <thead>\n",
       "    <tr style=\"text-align: right;\">\n",
       "      <th></th>\n",
       "      <th>sentence_id</th>\n",
       "      <th>ent_text</th>\n",
       "      <th>ent_type</th>\n",
       "    </tr>\n",
       "  </thead>\n",
       "  <tbody>\n",
       "    <tr>\n",
       "      <th>0</th>\n",
       "      <td>1</td>\n",
       "      <td>seasonal allergies</td>\n",
       "      <td>PROBLEM</td>\n",
       "    </tr>\n",
       "    <tr>\n",
       "      <th>1</th>\n",
       "      <td>2</td>\n",
       "      <td>diabetic retinopathy</td>\n",
       "      <td>PROBLEM</td>\n",
       "    </tr>\n",
       "    <tr>\n",
       "      <th>2</th>\n",
       "      <td>2</td>\n",
       "      <td>diagnosed autoimmune disease</td>\n",
       "      <td>PROBLEM</td>\n",
       "    </tr>\n",
       "    <tr>\n",
       "      <th>3</th>\n",
       "      <td>2</td>\n",
       "      <td>lupus</td>\n",
       "      <td>PROBLEM</td>\n",
       "    </tr>\n",
       "    <tr>\n",
       "      <th>4</th>\n",
       "      <td>2</td>\n",
       "      <td>rheumatoid arthritis</td>\n",
       "      <td>PROBLEM</td>\n",
       "    </tr>\n",
       "    <tr>\n",
       "      <th>5</th>\n",
       "      <td>2</td>\n",
       "      <td>fibromylagia)</td>\n",
       "      <td>PROBLEM</td>\n",
       "    </tr>\n",
       "    <tr>\n",
       "      <th>6</th>\n",
       "      <td>2</td>\n",
       "      <td>immunodeficiency</td>\n",
       "      <td>PROBLEM</td>\n",
       "    </tr>\n",
       "    <tr>\n",
       "      <th>7</th>\n",
       "      <td>2</td>\n",
       "      <td>hiv)</td>\n",
       "      <td>PROBLEM</td>\n",
       "    </tr>\n",
       "    <tr>\n",
       "      <th>8</th>\n",
       "      <td>2</td>\n",
       "      <td>connective tissue disease</td>\n",
       "      <td>PROBLEM</td>\n",
       "    </tr>\n",
       "    <tr>\n",
       "      <th>9</th>\n",
       "      <td>2</td>\n",
       "      <td>clinically significant atopic syndrome</td>\n",
       "      <td>PROBLEM</td>\n",
       "    </tr>\n",
       "  </tbody>\n",
       "</table>\n",
       "</div>"
      ],
      "text/plain": [
       "  sentence_id                                ent_text ent_type\n",
       "0           1                      seasonal allergies  PROBLEM\n",
       "1           2                    diabetic retinopathy  PROBLEM\n",
       "2           2            diagnosed autoimmune disease  PROBLEM\n",
       "3           2                                   lupus  PROBLEM\n",
       "4           2                    rheumatoid arthritis  PROBLEM\n",
       "5           2                           fibromylagia)  PROBLEM\n",
       "6           2                        immunodeficiency  PROBLEM\n",
       "7           2                                    hiv)  PROBLEM\n",
       "8           2               connective tissue disease  PROBLEM\n",
       "9           2  clinically significant atopic syndrome  PROBLEM"
      ]
     },
     "execution_count": 45,
     "metadata": {},
     "output_type": "execute_result"
    }
   ],
   "source": [
    "df1.head(10)"
   ]
  },
  {
   "cell_type": "markdown",
   "metadata": {},
   "source": [
    "# Note: some sentences contain no detectible entities, like sentence_id = 2"
   ]
  },
  {
   "cell_type": "code",
   "execution_count": 46,
   "metadata": {},
   "outputs": [
    {
     "data": {
      "text/html": [
       "<div>\n",
       "<style scoped>\n",
       "    .dataframe tbody tr th:only-of-type {\n",
       "        vertical-align: middle;\n",
       "    }\n",
       "\n",
       "    .dataframe tbody tr th {\n",
       "        vertical-align: top;\n",
       "    }\n",
       "\n",
       "    .dataframe thead th {\n",
       "        text-align: right;\n",
       "    }\n",
       "</style>\n",
       "<table border=\"1\" class=\"dataframe\">\n",
       "  <thead>\n",
       "    <tr style=\"text-align: right;\">\n",
       "      <th></th>\n",
       "      <th>sentence_id</th>\n",
       "      <th>criteria</th>\n",
       "      <th>ent_text</th>\n",
       "      <th>ent_type</th>\n",
       "    </tr>\n",
       "  </thead>\n",
       "  <tbody>\n",
       "    <tr>\n",
       "      <th>0</th>\n",
       "      <td>1</td>\n",
       "      <td>seasonal allergies with significant effect on ...</td>\n",
       "      <td>seasonal allergies</td>\n",
       "      <td>PROBLEM</td>\n",
       "    </tr>\n",
       "    <tr>\n",
       "      <th>1</th>\n",
       "      <td>2</td>\n",
       "      <td>patients with diabetic retinopathy, collagen, ...</td>\n",
       "      <td>diabetic retinopathy</td>\n",
       "      <td>PROBLEM</td>\n",
       "    </tr>\n",
       "    <tr>\n",
       "      <th>2</th>\n",
       "      <td>2</td>\n",
       "      <td>patients with diabetic retinopathy, collagen, ...</td>\n",
       "      <td>diagnosed autoimmune disease</td>\n",
       "      <td>PROBLEM</td>\n",
       "    </tr>\n",
       "    <tr>\n",
       "      <th>3</th>\n",
       "      <td>2</td>\n",
       "      <td>patients with diabetic retinopathy, collagen, ...</td>\n",
       "      <td>lupus</td>\n",
       "      <td>PROBLEM</td>\n",
       "    </tr>\n",
       "    <tr>\n",
       "      <th>4</th>\n",
       "      <td>2</td>\n",
       "      <td>patients with diabetic retinopathy, collagen, ...</td>\n",
       "      <td>rheumatoid arthritis</td>\n",
       "      <td>PROBLEM</td>\n",
       "    </tr>\n",
       "    <tr>\n",
       "      <th>5</th>\n",
       "      <td>2</td>\n",
       "      <td>patients with diabetic retinopathy, collagen, ...</td>\n",
       "      <td>fibromylagia)</td>\n",
       "      <td>PROBLEM</td>\n",
       "    </tr>\n",
       "    <tr>\n",
       "      <th>6</th>\n",
       "      <td>2</td>\n",
       "      <td>patients with diabetic retinopathy, collagen, ...</td>\n",
       "      <td>immunodeficiency</td>\n",
       "      <td>PROBLEM</td>\n",
       "    </tr>\n",
       "    <tr>\n",
       "      <th>7</th>\n",
       "      <td>2</td>\n",
       "      <td>patients with diabetic retinopathy, collagen, ...</td>\n",
       "      <td>hiv)</td>\n",
       "      <td>PROBLEM</td>\n",
       "    </tr>\n",
       "    <tr>\n",
       "      <th>8</th>\n",
       "      <td>2</td>\n",
       "      <td>patients with diabetic retinopathy, collagen, ...</td>\n",
       "      <td>connective tissue disease</td>\n",
       "      <td>PROBLEM</td>\n",
       "    </tr>\n",
       "    <tr>\n",
       "      <th>9</th>\n",
       "      <td>2</td>\n",
       "      <td>patients with diabetic retinopathy, collagen, ...</td>\n",
       "      <td>clinically significant atopic syndrome</td>\n",
       "      <td>PROBLEM</td>\n",
       "    </tr>\n",
       "    <tr>\n",
       "      <th>10</th>\n",
       "      <td>2</td>\n",
       "      <td>patients with diabetic retinopathy, collagen, ...</td>\n",
       "      <td>allergies</td>\n",
       "      <td>PROBLEM</td>\n",
       "    </tr>\n",
       "    <tr>\n",
       "      <th>11</th>\n",
       "      <td>2</td>\n",
       "      <td>patients with diabetic retinopathy, collagen, ...</td>\n",
       "      <td>asthma</td>\n",
       "      <td>PROBLEM</td>\n",
       "    </tr>\n",
       "    <tr>\n",
       "      <th>12</th>\n",
       "      <td>3</td>\n",
       "      <td>has a history of relevant drug allergies, food...</td>\n",
       "      <td>relevant drug allergies</td>\n",
       "      <td>PROBLEM</td>\n",
       "    </tr>\n",
       "    <tr>\n",
       "      <th>13</th>\n",
       "      <td>3</td>\n",
       "      <td>has a history of relevant drug allergies, food...</td>\n",
       "      <td>food allergies</td>\n",
       "      <td>PROBLEM</td>\n",
       "    </tr>\n",
       "    <tr>\n",
       "      <th>14</th>\n",
       "      <td>3</td>\n",
       "      <td>has a history of relevant drug allergies, food...</td>\n",
       "      <td>oxycodone</td>\n",
       "      <td>TREATMENT</td>\n",
       "    </tr>\n",
       "  </tbody>\n",
       "</table>\n",
       "</div>"
      ],
      "text/plain": [
       "   sentence_id                                           criteria  \\\n",
       "0            1  seasonal allergies with significant effect on ...   \n",
       "1            2  patients with diabetic retinopathy, collagen, ...   \n",
       "2            2  patients with diabetic retinopathy, collagen, ...   \n",
       "3            2  patients with diabetic retinopathy, collagen, ...   \n",
       "4            2  patients with diabetic retinopathy, collagen, ...   \n",
       "5            2  patients with diabetic retinopathy, collagen, ...   \n",
       "6            2  patients with diabetic retinopathy, collagen, ...   \n",
       "7            2  patients with diabetic retinopathy, collagen, ...   \n",
       "8            2  patients with diabetic retinopathy, collagen, ...   \n",
       "9            2  patients with diabetic retinopathy, collagen, ...   \n",
       "10           2  patients with diabetic retinopathy, collagen, ...   \n",
       "11           2  patients with diabetic retinopathy, collagen, ...   \n",
       "12           3  has a history of relevant drug allergies, food...   \n",
       "13           3  has a history of relevant drug allergies, food...   \n",
       "14           3  has a history of relevant drug allergies, food...   \n",
       "\n",
       "                                  ent_text   ent_type  \n",
       "0                       seasonal allergies    PROBLEM  \n",
       "1                     diabetic retinopathy    PROBLEM  \n",
       "2             diagnosed autoimmune disease    PROBLEM  \n",
       "3                                    lupus    PROBLEM  \n",
       "4                     rheumatoid arthritis    PROBLEM  \n",
       "5                            fibromylagia)    PROBLEM  \n",
       "6                         immunodeficiency    PROBLEM  \n",
       "7                                     hiv)    PROBLEM  \n",
       "8                connective tissue disease    PROBLEM  \n",
       "9   clinically significant atopic syndrome    PROBLEM  \n",
       "10                               allergies    PROBLEM  \n",
       "11                                  asthma    PROBLEM  \n",
       "12                 relevant drug allergies    PROBLEM  \n",
       "13                          food allergies    PROBLEM  \n",
       "14                               oxycodone  TREATMENT  "
      ]
     },
     "execution_count": 46,
     "metadata": {},
     "output_type": "execute_result"
    }
   ],
   "source": [
    "df2 = pd.merge(df, df1, on='sentence_id',  how='left')\n",
    "df2.head(15)"
   ]
  },
  {
   "cell_type": "markdown",
   "metadata": {},
   "source": [
    "# Rule 1\n",
    "If criteria contain ‘allergy to’: Replace all detected entities as allergy\n"
   ]
  },
  {
   "cell_type": "code",
   "execution_count": 47,
   "metadata": {},
   "outputs": [],
   "source": [
    "a = ['allergy to', 'allergies to', 'allergic to','hypersensitivity to','hypersensitivities to','serious adverse reaction to']"
   ]
  },
  {
   "cell_type": "code",
   "execution_count": 48,
   "metadata": {},
   "outputs": [],
   "source": [
    "for index, row in df2.iterrows():\n",
    "    if any(x in row['criteria'] for x in a):\n",
    "        df2.loc[index,'ent_type'] = 'ALLERGY'"
   ]
  },
  {
   "cell_type": "markdown",
   "metadata": {},
   "source": [
    "Now, we delete the artifacts such as \"known allergy\""
   ]
  },
  {
   "cell_type": "code",
   "execution_count": 49,
   "metadata": {},
   "outputs": [],
   "source": [
    "delete = ['allergy', 'allergies', 'allergic','hypersensitivity','hypersensitivities',\n",
    "          'known allergy','a known allergy','known hypersensitivity','known allergies','known hypersensitivities',\n",
    "          'serious adverse reaction','sensitivity']"
   ]
  },
  {
   "cell_type": "code",
   "execution_count": 50,
   "metadata": {},
   "outputs": [],
   "source": [
    "for i in delete:\n",
    "    df2 = df2[df2.ent_text != i]\n"
   ]
  },
  {
   "cell_type": "markdown",
   "metadata": {},
   "source": [
    "# Rule 2\n",
    "If a ‘problem’ entity contains the word allergy: Replace all entities as allergy\n"
   ]
  },
  {
   "cell_type": "code",
   "execution_count": 52,
   "metadata": {},
   "outputs": [],
   "source": [
    "b = ['allergy', 'allergies', 'allergic','hypersensitivity','hypersensitivities']"
   ]
  },
  {
   "cell_type": "code",
   "execution_count": 53,
   "metadata": {},
   "outputs": [],
   "source": [
    "for index, row in df2.iterrows():\n",
    "    if any(x in row['ent_text'] for x in b):\n",
    "        df2.loc[index,'ent_type'] = 'ALLERGY'"
   ]
  },
  {
   "cell_type": "markdown",
   "metadata": {},
   "source": [
    "# Save"
   ]
  },
  {
   "cell_type": "code",
   "execution_count": 54,
   "metadata": {},
   "outputs": [],
   "source": [
    "df2.to_csv(('allergy_output_'+ date + '.csv'),index = False)"
   ]
  }
 ],
 "metadata": {
  "kernelspec": {
   "display_name": "Python 3 (ipykernel)",
   "language": "python",
   "name": "python3"
  },
  "language_info": {
   "codemirror_mode": {
    "name": "ipython",
    "version": 3
   },
   "file_extension": ".py",
   "mimetype": "text/x-python",
   "name": "python",
   "nbconvert_exporter": "python",
   "pygments_lexer": "ipython3",
   "version": "3.8.12"
  },
  "toc": {
   "base_numbering": 1,
   "nav_menu": {},
   "number_sections": true,
   "sideBar": true,
   "skip_h1_title": false,
   "title_cell": "Table of Contents",
   "title_sidebar": "Contents",
   "toc_cell": false,
   "toc_position": {},
   "toc_section_display": true,
   "toc_window_display": false
  }
 },
 "nbformat": 4,
 "nbformat_minor": 2
}
